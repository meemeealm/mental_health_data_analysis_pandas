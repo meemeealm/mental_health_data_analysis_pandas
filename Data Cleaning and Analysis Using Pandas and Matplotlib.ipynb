{
 "cells": [
  {
   "cell_type": "code",
   "execution_count": null,
   "metadata": {},
   "outputs": [],
   "source": [
    "%pip install matplotlib\n",
    "%pip install pandas\n",
    "%pip install numpy "
   ]
  },
  {
   "cell_type": "code",
   "execution_count": null,
   "metadata": {},
   "outputs": [],
   "source": [
    "%pip install scikit-learn"
   ]
  },
  {
   "cell_type": "code",
   "execution_count": null,
   "metadata": {},
   "outputs": [],
   "source": [
    "import pandas as pd\n",
    "import matplotlib.pyplot as plt\n",
    "import numpy as np"
   ]
  },
  {
   "cell_type": "markdown",
   "metadata": {},
   "source": [
    "### Data Cleaning"
   ]
  },
  {
   "cell_type": "code",
   "execution_count": null,
   "metadata": {},
   "outputs": [],
   "source": [
    "#load data into DataFrame\n",
    "df=pd.read_csv(r\"mentalhealth.csv\")\n",
    "\n",
    "# delete rows with zero \n",
    "df=df.dropna()\n"
   ]
  },
  {
   "cell_type": "code",
   "execution_count": null,
   "metadata": {},
   "outputs": [],
   "source": [
    "#check data types\n",
    "df.dtypes"
   ]
  },
  {
   "cell_type": "code",
   "execution_count": null,
   "metadata": {},
   "outputs": [],
   "source": [
    "# check info\n",
    "print(df.info())"
   ]
  },
  {
   "cell_type": "code",
   "execution_count": null,
   "metadata": {},
   "outputs": [],
   "source": [
    "# check the columns\n",
    "print(df.columns)"
   ]
  },
  {
   "cell_type": "code",
   "execution_count": null,
   "metadata": {},
   "outputs": [],
   "source": [
    "# change the headers to lowercase\n",
    "df.columns = [col.lower() for col in df.columns]\n",
    "df"
   ]
  },
  {
   "cell_type": "code",
   "execution_count": null,
   "metadata": {},
   "outputs": [],
   "source": [
    "# stats summary of days indoors column: other column are categorical values so I will change them into numerical values for analysis later.\n",
    "print(df.describe())"
   ]
  },
  {
   "cell_type": "code",
   "execution_count": null,
   "metadata": {},
   "outputs": [],
   "source": [
    "# check missing data\n",
    "missing_values = df.isnull().sum()\n",
    "print(missing_values) "
   ]
  },
  {
   "cell_type": "markdown",
   "metadata": {},
   "source": [
    "> Remove the duplicated data and coping struggles column."
   ]
  },
  {
   "cell_type": "code",
   "execution_count": null,
   "metadata": {},
   "outputs": [],
   "source": [
    "# check duplicate data \n",
    "duplicate_rows = df[df.duplicated()]"
   ]
  },
  {
   "cell_type": "code",
   "execution_count": null,
   "metadata": {},
   "outputs": [],
   "source": [
    "print(f\"Number of fully duplicated rows: {df.duplicated().sum()}\")"
   ]
  },
  {
   "cell_type": "code",
   "execution_count": null,
   "metadata": {},
   "outputs": [],
   "source": [
    "df = df.drop_duplicates()"
   ]
  },
  {
   "cell_type": "code",
   "execution_count": null,
   "metadata": {},
   "outputs": [],
   "source": [
    "# drop the coping struggles column\n",
    "df = df.drop(columns=['coping_struggles'])\n",
    "print(df.columns)"
   ]
  },
  {
   "cell_type": "markdown",
   "metadata": {},
   "source": [
    "### Data Analysis"
   ]
  },
  {
   "cell_type": "markdown",
   "metadata": {},
   "source": [
    "> Label Encoder Module from Scikit-learn was imported to process the data."
   ]
  },
  {
   "cell_type": "code",
   "execution_count": null,
   "metadata": {},
   "outputs": [],
   "source": [
    "#label encoding\n",
    "from sklearn.preprocessing import LabelEncoder\n",
    "le=LabelEncoder()"
   ]
  },
  {
   "cell_type": "code",
   "execution_count": null,
   "metadata": {},
   "outputs": [],
   "source": [
    "df['gender_encoded']= le.fit_transform(df['gender'])\n",
    "print(dict(zip(le.classes_, le.transform(le.classes_))))"
   ]
  },
  {
   "cell_type": "code",
   "execution_count": null,
   "metadata": {},
   "outputs": [],
   "source": [
    "# pie chart for Gender Distribution\n",
    "explode = (0.03, 0.03, 0.03)\n",
    "series = df2[\"gender_encoded\"].value_counts()\n",
    "series.plot(kind='pie', autopct = '%1.00f%%')\n",
    "plt.title('Gender Distribution')\n",
    "plt.legend(loc='best')\n",
    "plt.show()"
   ]
  },
  {
   "cell_type": "markdown",
   "metadata": {},
   "source": [
    "According to this pie-chart, we can see most participants are male. "
   ]
  },
  {
   "cell_type": "code",
   "execution_count": null,
   "metadata": {},
   "outputs": [],
   "source": [
    "# df2['occupation_encoded']= le.fit_transform(df2['Occupation'])\n",
    "# print(dict(zip(le.classes_, le.transform(le.classes_)))) "
   ]
  },
  {
   "cell_type": "code",
   "execution_count": null,
   "metadata": {},
   "outputs": [],
   "source": [
    "# pie chart for Occupation Distribution\n",
    "explode = (0.03, 0.03, 0.03)\n",
    "series = df[\"occupation\"].value_counts()\n",
    "series.plot(kind='pie', autopct = '%1.00f%%')\n",
    "plt.title('Occupation Distribution')\n",
    "plt.legend(loc='best')\n",
    "plt.show()"
   ]
  },
  {
   "cell_type": "code",
   "execution_count": null,
   "metadata": {},
   "outputs": [],
   "source": [
    "# Chart of respondants with Family History\n",
    "series = df[\"family_history\"].value_counts()\n",
    "series.plot(kind='bar', width = 0.3)\n",
    "plt.title('Family History')\n",
    "plt.ylabel('# of Responses')\n",
    "plt.legend(loc='best')\n",
    "plt.show()"
   ]
  },
  {
   "cell_type": "markdown",
   "metadata": {},
   "source": [
    "**I want to expore the data and find some insights.** "
   ]
  },
  {
   "cell_type": "markdown",
   "metadata": {},
   "source": [
    "Therefore, I want to check - \n",
    "1) What is the prevlance of stress and gender?\n",
    "2) Which occupations have the highest stress rates?"
   ]
  },
  {
   "cell_type": "markdown",
   "metadata": {},
   "source": [
    "#### ***1) What is the prevalance of stress and gender?***"
   ]
  },
  {
   "cell_type": "markdown",
   "metadata": {},
   "source": [
    "The __[formula](https://www.ncbi.nlm.nih.gov/books/NBK430867/)__ I used here is *Prevalence = (Total number with condition) / (Population at risk for the condition)*"
   ]
  },
  {
   "cell_type": "code",
   "execution_count": null,
   "metadata": {},
   "outputs": [],
   "source": [
    "df['stress_encoded']= le.fit_transform(df['growing_stress'])\n",
    "print(dict(zip(le.classes_, le.transform(le.classes_))))"
   ]
  },
  {
   "cell_type": "code",
   "execution_count": null,
   "metadata": {},
   "outputs": [],
   "source": [
    "total_male = len(df[df['gender_encoded']==0])\n",
    "total_female = len(df[df['gender_encoded']==1])\n",
    "\n",
    "total_male_with_condition = len(df[(df['gender_encoded']==0) & (df['stress_encoded'].isin([0,2]))])\n",
    "total_female_with_condition = len(df[(df['gender_encoded']==0) & (df['stress_encoded'].isin([0,2]))])\n",
    "\n",
    "prevalence_male = total_male_with_condition/total_male\n",
    "prevalence_female = total_female_with_condition/total_female"
   ]
  },
  {
   "cell_type": "code",
   "execution_count": null,
   "metadata": {},
   "outputs": [],
   "source": [
    "print(f\"Prevalence of stress among males: {prevalence_male:.2%}\")\n",
    "print(f\"Prevalence of stress among females: {prevalence_female:.2%}\")"
   ]
  },
  {
   "cell_type": "markdown",
   "metadata": {},
   "source": [
    "#### ***2) Which occupations have the highest stress rates?*** "
   ]
  },
  {
   "cell_type": "code",
   "execution_count": null,
   "metadata": {},
   "outputs": [],
   "source": [
    "print(df['occupation'].unique())"
   ]
  },
  {
   "cell_type": "code",
   "execution_count": null,
   "metadata": {},
   "outputs": [],
   "source": [
    "df['occupation_encoded']=le.fit_transform(df['occupation'])\n",
    "print(dict(zip(le.classes_,le.transform(le.classes_))))"
   ]
  },
  {
   "cell_type": "markdown",
   "metadata": {},
   "source": [
    "This was calculated by grouping the data by Occupation, \n",
    "<br> counting how many people in each role answered \"yes\" to growing_stress, \n",
    "<br> and dividing that by the total number of people in that occupation. \n",
    "<br>The result is a percentage that reflects how prevalent stress is within each job category."
   ]
  },
  {
   "cell_type": "code",
   "execution_count": null,
   "metadata": {},
   "outputs": [],
   "source": [
    "total_business_persons = len(df['occupation_encoded']==0)\n",
    "total_corporate_persons=len(df['occupation_encoded']==1) \n",
    "total_housewife_persons=len(df['occupation_encoded']==2)\n",
    "total_other_persons=len(df['occupation_encoded']==3) \n",
    "total_student_persons=len(df['occupation_encoded']==4) "
   ]
  },
  {
   "cell_type": "code",
   "execution_count": null,
   "metadata": {},
   "outputs": [],
   "source": [
    "business_persons=len(df[(df['occupation_encoded']==0) & (df['stress_encoded'].isin([2]))])\n",
    "corporate_persons=len(df[(df['occupation_encoded']==1) & (df['stress_encoded'].isin([2]))])\n",
    "housewife_persons=len(df[(df['occupation_encoded']==2) & (df['stress_encoded'].isin([2]))])\n",
    "other_persons=len(df[(df['occupation_encoded']==3) & (df['stress_encoded'].isin([2]))])\n",
    "student_persons=len(df[(df['occupation_encoded']==4) & (df['stress_encoded'].isin([2]))])"
   ]
  },
  {
   "cell_type": "code",
   "execution_count": null,
   "metadata": {},
   "outputs": [],
   "source": [
    "business = business_persons/total_business_persons\n",
    "corporate = corporate_persons/total_corporate_persons\n",
    "housewife = housewife_persons/total_housewife_persons\n",
    "other = other_persons/total_other_persons\n",
    "student = student_persons/total_student_persons"
   ]
  },
  {
   "cell_type": "code",
   "execution_count": 148,
   "metadata": {},
   "outputs": [
    {
     "data": {
      "image/png": "[encoded data removed]",
      "text/plain": [
       "<Figure size 500x300 with 1 Axes>"
      ]
     },
     "metadata": {},
     "output_type": "display_data"
    },
    {
     "ename": "NameError",
     "evalue": "name 'savefig' is not defined",
     "output_type": "error",
     "traceback": [
      "\u001b[1;31m---------------------------------------------------------------------------\u001b[0m",
      "\u001b[1;31mNameError\u001b[0m                                 Traceback (most recent call last)",
      "Cell \u001b[1;32mIn[148], line 17\u001b[0m\n\u001b[0;32m     15\u001b[0m plt\u001b[38;5;241m.\u001b[39mshow()\n\u001b[0;32m     16\u001b[0m plt\u001b[38;5;241m.\u001b[39msavefig(\u001b[38;5;124m'\u001b[39m\u001b[38;5;124moccupations_stress\u001b[39m\u001b[38;5;124m'\u001b[39m, bbox_inches\u001b[38;5;241m=\u001b[39m\u001b[38;5;124m'\u001b[39m\u001b[38;5;124mtight\u001b[39m\u001b[38;5;124m'\u001b[39m)\n\u001b[1;32m---> 17\u001b[0m \u001b[43msavefig\u001b[49m(\u001b[38;5;124m'\u001b[39m\u001b[38;5;124moccupations_stress\u001b[39m\u001b[38;5;124m'\u001b[39m)\n",
      "\u001b[1;31mNameError\u001b[0m: name 'savefig' is not defined"
     ]
    },
    {
     "data": {
      "text/plain": [
       "<Figure size 640x480 with 0 Axes>"
      ]
     },
     "metadata": {},
     "output_type": "display_data"
    }
   ],
   "source": [
    "# plot:\n",
    "x=[\"buiness\",\"corporate\",\"housewife\",\"other\",\"student\"]\n",
    "#values against each values of y\n",
    "y=[business,corporate,housewife,other,student]\n",
    "\n",
    "fig = plt.figure()\n",
    "fig.set_figwidth(5) \n",
    "fig.set_figheight(3) \n",
    "\n",
    "plt.barh(x, y, color='lightgreen')\n",
    "plt.xlabel(\"stress rate\")\n",
    "plt.ylabel(\"occupations\")\n",
    "plt.title(\"Occupation with highest stress rate\")\n",
    "plt.tight_layout()\n",
    "plt.show()\n",
    "plt.savefig('occupations_stress', bbox_inches='tight')"
   ]
  },
  {
   "cell_type": "code",
   "execution_count": null,
   "metadata": {},
   "outputs": [],
   "source": [
    "print(df['country'].unique())"
   ]
  },
  {
   "cell_type": "code",
   "execution_count": null,
   "metadata": {},
   "outputs": [],
   "source": []
  },
  {
   "cell_type": "code",
   "execution_count": null,
   "metadata": {},
   "outputs": [],
   "source": [
    "# country and care options\n",
    "\n",
    "\n",
    "plt.show()"
   ]
  },
  {
   "cell_type": "code",
   "execution_count": null,
   "metadata": {},
   "outputs": [],
   "source": [
    "# days indoors and growing stress "
   ]
  }
 ],
 "metadata": {
  "kernelspec": {
   "display_name": "Python 3 (ipykernel)",
   "language": "python",
   "name": "python3"
  },
  "language_info": {
   "codemirror_mode": {
    "name": "ipython",
    "version": 3
   },
   "file_extension": ".py",
   "mimetype": "text/x-python",
   "name": "python",
   "nbconvert_exporter": "python",
   "pygments_lexer": "ipython3",
   "version": "3.11.9"
  }
 },
 "nbformat": 4,
 "nbformat_minor": 4
}
