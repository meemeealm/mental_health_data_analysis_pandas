{
 "cells": [
  {
   "cell_type": "code",
   "execution_count": null,
   "metadata": {},
   "outputs": [],
   "source": [
    "%pip install matplotlib\n",
    "%pip install pandas\n",
    "%pip install numpy "
   ]
  },
  {
   "cell_type": "code",
   "execution_count": null,
   "metadata": {},
   "outputs": [],
   "source": [
    "%pip install scikit-learn"
   ]
  },
  {
   "cell_type": "code",
   "execution_count": null,
   "metadata": {},
   "outputs": [],
   "source": [
    "import pandas as pd\n",
    "import matplotlib.pyplot as plt\n",
    "import numpy as np"
   ]
  },
  {
   "cell_type": "markdown",
   "metadata": {},
   "source": [
    "### Data Cleaning"
   ]
  },
  {
   "cell_type": "code",
   "execution_count": 151,
   "metadata": {},
   "outputs": [],
   "source": [
    "#load data into DataFrame\n",
    "df=pd.read_csv(r\"mentalhealth.csv\")\n",
    "\n",
    "# delete rows with zero \n",
    "df=df.dropna()"
   ]
  },
  {
   "cell_type": "code",
   "execution_count": 152,
   "metadata": {},
   "outputs": [
    {
     "data": {
      "text/plain": [
       "Timestamp                  object\n",
       "Gender                     object\n",
       "Country                    object\n",
       "Occupation                 object\n",
       "self_employed              object\n",
       "family_history             object\n",
       "treatment                  object\n",
       "Days_Indoors                int64\n",
       "Growing_Stress             object\n",
       "Changes_Habits             object\n",
       "Mental_Health_History      object\n",
       "Mood_Swings                object\n",
       "Coping_Struggles           object\n",
       "Work_Interest              object\n",
       "Social_Weakness            object\n",
       "mental_health_interview    object\n",
       "care_options               object\n",
       "dtype: object"
      ]
     },
     "execution_count": 152,
     "metadata": {},
     "output_type": "execute_result"
    }
   ],
   "source": [
    "#check data types\n",
    "df.dtypes"
   ]
  },
  {
   "cell_type": "code",
   "execution_count": 153,
   "metadata": {},
   "outputs": [
    {
     "name": "stdout",
     "output_type": "stream",
     "text": [
      "<class 'pandas.core.frame.DataFrame'>\n",
      "Index: 287162 entries, 3 to 292363\n",
      "Data columns (total 17 columns):\n",
      " #   Column                   Non-Null Count   Dtype \n",
      "---  ------                   --------------   ----- \n",
      " 0   Timestamp                287162 non-null  object\n",
      " 1   Gender                   287162 non-null  object\n",
      " 2   Country                  287162 non-null  object\n",
      " 3   Occupation               287162 non-null  object\n",
      " 4   self_employed            287162 non-null  object\n",
      " 5   family_history           287162 non-null  object\n",
      " 6   treatment                287162 non-null  object\n",
      " 7   Days_Indoors             287162 non-null  int64 \n",
      " 8   Growing_Stress           287162 non-null  object\n",
      " 9   Changes_Habits           287162 non-null  object\n",
      " 10  Mental_Health_History    287162 non-null  object\n",
      " 11  Mood_Swings              287162 non-null  object\n",
      " 12  Coping_Struggles         287162 non-null  object\n",
      " 13  Work_Interest            287162 non-null  object\n",
      " 14  Social_Weakness          287162 non-null  object\n",
      " 15  mental_health_interview  287162 non-null  object\n",
      " 16  care_options             287162 non-null  object\n",
      "dtypes: int64(1), object(16)\n",
      "memory usage: 39.4+ MB\n",
      "None\n"
     ]
    }
   ],
   "source": [
    "# check info\n",
    "print(df.info())"
   ]
  },
  {
   "cell_type": "code",
   "execution_count": 154,
   "metadata": {},
   "outputs": [
    {
     "name": "stdout",
     "output_type": "stream",
     "text": [
      "Index(['Timestamp', 'Gender', 'Country', 'Occupation', 'self_employed',\n",
      "       'family_history', 'treatment', 'Days_Indoors', 'Growing_Stress',\n",
      "       'Changes_Habits', 'Mental_Health_History', 'Mood_Swings',\n",
      "       'Coping_Struggles', 'Work_Interest', 'Social_Weakness',\n",
      "       'mental_health_interview', 'care_options'],\n",
      "      dtype='object')\n"
     ]
    }
   ],
   "source": [
    "# check the columns\n",
    "print(df.columns)"
   ]
  },
  {
   "cell_type": "code",
   "execution_count": 155,
   "metadata": {},
   "outputs": [
    {
     "data": {
      "text/html": [
       "<div>\n",
       "<style scoped>\n",
       "    .dataframe tbody tr th:only-of-type {\n",
       "        vertical-align: middle;\n",
       "    }\n",
       "\n",
       "    .dataframe tbody tr th {\n",
       "        vertical-align: top;\n",
       "    }\n",
       "\n",
       "    .dataframe thead th {\n",
       "        text-align: right;\n",
       "    }\n",
       "</style>\n",
       "<table border=\"1\" class=\"dataframe\">\n",
       "  <thead>\n",
       "    <tr style=\"text-align: right;\">\n",
       "      <th></th>\n",
       "      <th>timestamp</th>\n",
       "      <th>gender</th>\n",
       "      <th>country</th>\n",
       "      <th>occupation</th>\n",
       "      <th>self_employed</th>\n",
       "      <th>family_history</th>\n",
       "      <th>treatment</th>\n",
       "      <th>days_indoors</th>\n",
       "      <th>growing_stress</th>\n",
       "      <th>changes_habits</th>\n",
       "      <th>mental_health_history</th>\n",
       "      <th>mood_swings</th>\n",
       "      <th>coping_struggles</th>\n",
       "      <th>work_interest</th>\n",
       "      <th>social_weakness</th>\n",
       "      <th>mental_health_interview</th>\n",
       "      <th>care_options</th>\n",
       "    </tr>\n",
       "  </thead>\n",
       "  <tbody>\n",
       "    <tr>\n",
       "      <th>3</th>\n",
       "      <td>8/27/2014 11:37:59</td>\n",
       "      <td>Female</td>\n",
       "      <td>United States</td>\n",
       "      <td>Corporate</td>\n",
       "      <td>No</td>\n",
       "      <td>Yes</td>\n",
       "      <td>Yes</td>\n",
       "      <td>1</td>\n",
       "      <td>Yes</td>\n",
       "      <td>No</td>\n",
       "      <td>Yes</td>\n",
       "      <td>Medium</td>\n",
       "      <td>No</td>\n",
       "      <td>No</td>\n",
       "      <td>Yes</td>\n",
       "      <td>Maybe</td>\n",
       "      <td>Yes</td>\n",
       "    </tr>\n",
       "    <tr>\n",
       "      <th>4</th>\n",
       "      <td>8/27/2014 11:43:36</td>\n",
       "      <td>Female</td>\n",
       "      <td>United States</td>\n",
       "      <td>Corporate</td>\n",
       "      <td>No</td>\n",
       "      <td>Yes</td>\n",
       "      <td>Yes</td>\n",
       "      <td>1</td>\n",
       "      <td>Yes</td>\n",
       "      <td>No</td>\n",
       "      <td>Yes</td>\n",
       "      <td>Medium</td>\n",
       "      <td>No</td>\n",
       "      <td>No</td>\n",
       "      <td>Yes</td>\n",
       "      <td>No</td>\n",
       "      <td>Yes</td>\n",
       "    </tr>\n",
       "    <tr>\n",
       "      <th>5</th>\n",
       "      <td>8/27/2014 11:49:51</td>\n",
       "      <td>Female</td>\n",
       "      <td>Poland</td>\n",
       "      <td>Corporate</td>\n",
       "      <td>No</td>\n",
       "      <td>No</td>\n",
       "      <td>Yes</td>\n",
       "      <td>1</td>\n",
       "      <td>Yes</td>\n",
       "      <td>No</td>\n",
       "      <td>Yes</td>\n",
       "      <td>Medium</td>\n",
       "      <td>No</td>\n",
       "      <td>No</td>\n",
       "      <td>Yes</td>\n",
       "      <td>Maybe</td>\n",
       "      <td>Not sure</td>\n",
       "    </tr>\n",
       "    <tr>\n",
       "      <th>6</th>\n",
       "      <td>8/27/2014 11:51:34</td>\n",
       "      <td>Female</td>\n",
       "      <td>Australia</td>\n",
       "      <td>Corporate</td>\n",
       "      <td>No</td>\n",
       "      <td>Yes</td>\n",
       "      <td>Yes</td>\n",
       "      <td>1</td>\n",
       "      <td>Yes</td>\n",
       "      <td>No</td>\n",
       "      <td>Yes</td>\n",
       "      <td>Medium</td>\n",
       "      <td>No</td>\n",
       "      <td>No</td>\n",
       "      <td>Yes</td>\n",
       "      <td>No</td>\n",
       "      <td>Not sure</td>\n",
       "    </tr>\n",
       "    <tr>\n",
       "      <th>7</th>\n",
       "      <td>8/27/2014 11:52:41</td>\n",
       "      <td>Female</td>\n",
       "      <td>United States</td>\n",
       "      <td>Corporate</td>\n",
       "      <td>No</td>\n",
       "      <td>No</td>\n",
       "      <td>No</td>\n",
       "      <td>1</td>\n",
       "      <td>Yes</td>\n",
       "      <td>No</td>\n",
       "      <td>Yes</td>\n",
       "      <td>Medium</td>\n",
       "      <td>No</td>\n",
       "      <td>No</td>\n",
       "      <td>Yes</td>\n",
       "      <td>No</td>\n",
       "      <td>No</td>\n",
       "    </tr>\n",
       "    <tr>\n",
       "      <th>...</th>\n",
       "      <td>...</td>\n",
       "      <td>...</td>\n",
       "      <td>...</td>\n",
       "      <td>...</td>\n",
       "      <td>...</td>\n",
       "      <td>...</td>\n",
       "      <td>...</td>\n",
       "      <td>...</td>\n",
       "      <td>...</td>\n",
       "      <td>...</td>\n",
       "      <td>...</td>\n",
       "      <td>...</td>\n",
       "      <td>...</td>\n",
       "      <td>...</td>\n",
       "      <td>...</td>\n",
       "      <td>...</td>\n",
       "      <td>...</td>\n",
       "    </tr>\n",
       "    <tr>\n",
       "      <th>292359</th>\n",
       "      <td>7/27/2015 23:25:34</td>\n",
       "      <td>Male</td>\n",
       "      <td>United States</td>\n",
       "      <td>Business</td>\n",
       "      <td>Yes</td>\n",
       "      <td>Yes</td>\n",
       "      <td>Yes</td>\n",
       "      <td>2</td>\n",
       "      <td>No</td>\n",
       "      <td>Maybe</td>\n",
       "      <td>No</td>\n",
       "      <td>Low</td>\n",
       "      <td>Yes</td>\n",
       "      <td>No</td>\n",
       "      <td>Maybe</td>\n",
       "      <td>Maybe</td>\n",
       "      <td>Not sure</td>\n",
       "    </tr>\n",
       "    <tr>\n",
       "      <th>292360</th>\n",
       "      <td>8/17/2015 9:38:35</td>\n",
       "      <td>Male</td>\n",
       "      <td>South Africa</td>\n",
       "      <td>Business</td>\n",
       "      <td>No</td>\n",
       "      <td>Yes</td>\n",
       "      <td>Yes</td>\n",
       "      <td>2</td>\n",
       "      <td>No</td>\n",
       "      <td>Maybe</td>\n",
       "      <td>No</td>\n",
       "      <td>Low</td>\n",
       "      <td>Yes</td>\n",
       "      <td>No</td>\n",
       "      <td>Maybe</td>\n",
       "      <td>No</td>\n",
       "      <td>Yes</td>\n",
       "    </tr>\n",
       "    <tr>\n",
       "      <th>292361</th>\n",
       "      <td>8/25/2015 19:59:38</td>\n",
       "      <td>Male</td>\n",
       "      <td>United States</td>\n",
       "      <td>Business</td>\n",
       "      <td>No</td>\n",
       "      <td>Yes</td>\n",
       "      <td>No</td>\n",
       "      <td>2</td>\n",
       "      <td>No</td>\n",
       "      <td>Maybe</td>\n",
       "      <td>No</td>\n",
       "      <td>Low</td>\n",
       "      <td>Yes</td>\n",
       "      <td>No</td>\n",
       "      <td>Maybe</td>\n",
       "      <td>No</td>\n",
       "      <td>No</td>\n",
       "    </tr>\n",
       "    <tr>\n",
       "      <th>292362</th>\n",
       "      <td>9/26/2015 1:07:35</td>\n",
       "      <td>Male</td>\n",
       "      <td>United States</td>\n",
       "      <td>Business</td>\n",
       "      <td>No</td>\n",
       "      <td>Yes</td>\n",
       "      <td>Yes</td>\n",
       "      <td>2</td>\n",
       "      <td>No</td>\n",
       "      <td>Maybe</td>\n",
       "      <td>No</td>\n",
       "      <td>Low</td>\n",
       "      <td>Yes</td>\n",
       "      <td>No</td>\n",
       "      <td>Maybe</td>\n",
       "      <td>No</td>\n",
       "      <td>Yes</td>\n",
       "    </tr>\n",
       "    <tr>\n",
       "      <th>292363</th>\n",
       "      <td>2/1/2016 23:04:31</td>\n",
       "      <td>Male</td>\n",
       "      <td>United States</td>\n",
       "      <td>Business</td>\n",
       "      <td>No</td>\n",
       "      <td>Yes</td>\n",
       "      <td>Yes</td>\n",
       "      <td>2</td>\n",
       "      <td>No</td>\n",
       "      <td>Maybe</td>\n",
       "      <td>No</td>\n",
       "      <td>Low</td>\n",
       "      <td>Yes</td>\n",
       "      <td>No</td>\n",
       "      <td>Maybe</td>\n",
       "      <td>No</td>\n",
       "      <td>Yes</td>\n",
       "    </tr>\n",
       "  </tbody>\n",
       "</table>\n",
       "<p>287162 rows × 17 columns</p>\n",
       "</div>"
      ],
      "text/plain": [
       "                 timestamp  gender        country occupation self_employed  \\\n",
       "3       8/27/2014 11:37:59  Female  United States  Corporate            No   \n",
       "4       8/27/2014 11:43:36  Female  United States  Corporate            No   \n",
       "5       8/27/2014 11:49:51  Female         Poland  Corporate            No   \n",
       "6       8/27/2014 11:51:34  Female      Australia  Corporate            No   \n",
       "7       8/27/2014 11:52:41  Female  United States  Corporate            No   \n",
       "...                    ...     ...            ...        ...           ...   \n",
       "292359  7/27/2015 23:25:34    Male  United States   Business           Yes   \n",
       "292360   8/17/2015 9:38:35    Male   South Africa   Business            No   \n",
       "292361  8/25/2015 19:59:38    Male  United States   Business            No   \n",
       "292362   9/26/2015 1:07:35    Male  United States   Business            No   \n",
       "292363   2/1/2016 23:04:31    Male  United States   Business            No   \n",
       "\n",
       "       family_history treatment  days_indoors growing_stress changes_habits  \\\n",
       "3                 Yes       Yes             1            Yes             No   \n",
       "4                 Yes       Yes             1            Yes             No   \n",
       "5                  No       Yes             1            Yes             No   \n",
       "6                 Yes       Yes             1            Yes             No   \n",
       "7                  No        No             1            Yes             No   \n",
       "...               ...       ...           ...            ...            ...   \n",
       "292359            Yes       Yes             2             No          Maybe   \n",
       "292360            Yes       Yes             2             No          Maybe   \n",
       "292361            Yes        No             2             No          Maybe   \n",
       "292362            Yes       Yes             2             No          Maybe   \n",
       "292363            Yes       Yes             2             No          Maybe   \n",
       "\n",
       "       mental_health_history mood_swings coping_struggles work_interest  \\\n",
       "3                        Yes      Medium               No            No   \n",
       "4                        Yes      Medium               No            No   \n",
       "5                        Yes      Medium               No            No   \n",
       "6                        Yes      Medium               No            No   \n",
       "7                        Yes      Medium               No            No   \n",
       "...                      ...         ...              ...           ...   \n",
       "292359                    No         Low              Yes            No   \n",
       "292360                    No         Low              Yes            No   \n",
       "292361                    No         Low              Yes            No   \n",
       "292362                    No         Low              Yes            No   \n",
       "292363                    No         Low              Yes            No   \n",
       "\n",
       "       social_weakness mental_health_interview care_options  \n",
       "3                  Yes                   Maybe          Yes  \n",
       "4                  Yes                      No          Yes  \n",
       "5                  Yes                   Maybe     Not sure  \n",
       "6                  Yes                      No     Not sure  \n",
       "7                  Yes                      No           No  \n",
       "...                ...                     ...          ...  \n",
       "292359           Maybe                   Maybe     Not sure  \n",
       "292360           Maybe                      No          Yes  \n",
       "292361           Maybe                      No           No  \n",
       "292362           Maybe                      No          Yes  \n",
       "292363           Maybe                      No          Yes  \n",
       "\n",
       "[287162 rows x 17 columns]"
      ]
     },
     "execution_count": 155,
     "metadata": {},
     "output_type": "execute_result"
    }
   ],
   "source": [
    "# change the headers to lowercase\n",
    "df.columns = [col.lower() for col in df.columns]\n",
    "df"
   ]
  },
  {
   "cell_type": "markdown",
   "metadata": {},
   "source": [
    "### Data Cleaning"
   ]
  },
  {
   "cell_type": "code",
   "execution_count": 156,
   "metadata": {},
   "outputs": [
    {
     "name": "stdout",
     "output_type": "stream",
     "text": [
      "        days_indoors\n",
      "count  287162.000000\n",
      "mean        2.963205\n",
      "std         1.420193\n",
      "min         1.000000\n",
      "25%         2.000000\n",
      "50%         3.000000\n",
      "75%         4.000000\n",
      "max         5.000000\n"
     ]
    }
   ],
   "source": [
    "# stats summary of days indoors column: other column are categorical values so I will change them into numerical values for analysis later.\n",
    "print(df.describe())"
   ]
  },
  {
   "cell_type": "code",
   "execution_count": 157,
   "metadata": {},
   "outputs": [
    {
     "name": "stdout",
     "output_type": "stream",
     "text": [
      "timestamp                  0\n",
      "gender                     0\n",
      "country                    0\n",
      "occupation                 0\n",
      "self_employed              0\n",
      "family_history             0\n",
      "treatment                  0\n",
      "days_indoors               0\n",
      "growing_stress             0\n",
      "changes_habits             0\n",
      "mental_health_history      0\n",
      "mood_swings                0\n",
      "coping_struggles           0\n",
      "work_interest              0\n",
      "social_weakness            0\n",
      "mental_health_interview    0\n",
      "care_options               0\n",
      "dtype: int64\n"
     ]
    }
   ],
   "source": [
    "# check missing data\n",
    "missing_values = df.isnull().sum()\n",
    "print(missing_values) "
   ]
  },
  {
   "cell_type": "markdown",
   "metadata": {},
   "source": [
    "> Remove the duplicated data and coping struggles column."
   ]
  },
  {
   "cell_type": "code",
   "execution_count": 158,
   "metadata": {},
   "outputs": [],
   "source": [
    "# check duplicate data \n",
    "duplicate_rows = df[df.duplicated()]"
   ]
  },
  {
   "cell_type": "code",
   "execution_count": 159,
   "metadata": {},
   "outputs": [
    {
     "name": "stdout",
     "output_type": "stream",
     "text": [
      "Number of fully duplicated rows: 354\n"
     ]
    }
   ],
   "source": [
    "print(f\"Number of fully duplicated rows: {df.duplicated().sum()}\")"
   ]
  },
  {
   "cell_type": "code",
   "execution_count": 160,
   "metadata": {},
   "outputs": [],
   "source": [
    "df = df.drop_duplicates()"
   ]
  },
  {
   "cell_type": "code",
   "execution_count": 161,
   "metadata": {},
   "outputs": [
    {
     "name": "stdout",
     "output_type": "stream",
     "text": [
      "Index(['timestamp', 'gender', 'country', 'occupation', 'self_employed',\n",
      "       'family_history', 'treatment', 'days_indoors', 'growing_stress',\n",
      "       'changes_habits', 'mental_health_history', 'mood_swings',\n",
      "       'work_interest', 'social_weakness', 'mental_health_interview',\n",
      "       'care_options'],\n",
      "      dtype='object')\n"
     ]
    }
   ],
   "source": [
    "# drop the coping struggles column\n",
    "df = df.drop(columns=['coping_struggles'])\n",
    "print(df.columns)"
   ]
  },
  {
   "cell_type": "markdown",
   "metadata": {},
   "source": [
    "> Label Encoder Module from Scikit-learn was imported to process the data."
   ]
  },
  {
   "cell_type": "code",
   "execution_count": 164,
   "metadata": {},
   "outputs": [],
   "source": [
    "#label encoding\n",
    "from sklearn.preprocessing import LabelEncoder\n",
    "le=LabelEncoder()"
   ]
  },
  {
   "cell_type": "code",
   "execution_count": 165,
   "metadata": {},
   "outputs": [
    {
     "name": "stdout",
     "output_type": "stream",
     "text": [
      "{'Female': np.int64(0), 'Male': np.int64(1)}\n"
     ]
    }
   ],
   "source": [
    "df['gender_encoded']= le.fit_transform(df['gender'])\n",
    "print(dict(zip(le.classes_, le.transform(le.classes_))))"
   ]
  },
  {
   "cell_type": "code",
   "execution_count": 166,
   "metadata": {},
   "outputs": [
    {
     "name": "stdout",
     "output_type": "stream",
     "text": [
      "{'Maybe': np.int64(0), 'No': np.int64(1), 'Yes': np.int64(2)}\n"
     ]
    }
   ],
   "source": [
    "df['stress_encoded']= le.fit_transform(df['growing_stress'])\n",
    "print(dict(zip(le.classes_, le.transform(le.classes_))))"
   ]
  },
  {
   "cell_type": "code",
   "execution_count": 167,
   "metadata": {},
   "outputs": [
    {
     "name": "stdout",
     "output_type": "stream",
     "text": [
      "{'Business': np.int64(0), 'Corporate': np.int64(1), 'Housewife': np.int64(2), 'Others': np.int64(3), 'Student': np.int64(4)}\n"
     ]
    }
   ],
   "source": [
    "df['occupation_encoded']=le.fit_transform(df['occupation'])\n",
    "print(dict(zip(le.classes_,le.transform(le.classes_))))"
   ]
  },
  {
   "cell_type": "markdown",
   "metadata": {},
   "source": [
    "### Data Analysis"
   ]
  },
  {
   "cell_type": "code",
   "execution_count": 169,
   "metadata": {},
   "outputs": [
    {
     "data": {
      "image/png": "[encoded data removed]",
      "text/plain": [
       "<Figure size 640x480 with 1 Axes>"
      ]
     },
     "metadata": {},
     "output_type": "display_data"
    }
   ],
   "source": [
    "# pie chart for Gender Distribution\n",
    "explode = (0.03, 0.03, 0.03)\n",
    "series = df[\"gender_encoded\"].value_counts()\n",
    "series.plot(kind='pie', autopct = '%1.00f%%')\n",
    "plt.title('Gender Distribution')\n",
    "plt.legend(loc='best')\n",
    "plt.show()"
   ]
  },
  {
   "cell_type": "markdown",
   "metadata": {},
   "source": [
    "According to this pie-chart, we can see most participants are male. "
   ]
  },
  {
   "cell_type": "code",
   "execution_count": 170,
   "metadata": {},
   "outputs": [
    {
     "data": {
      "image/png": "[encoded data removed]",
      "text/plain": [
       "<Figure size 640x480 with 1 Axes>"
      ]
     },
     "metadata": {},
     "output_type": "display_data"
    }
   ],
   "source": [
    "# pie chart for Occupation Distribution\n",
    "explode = (0.03, 0.03, 0.03)\n",
    "series = df[\"occupation\"].value_counts()\n",
    "series.plot(kind='pie', autopct = '%1.00f%%')\n",
    "plt.title('Occupation Distribution')\n",
    "plt.legend(loc='best')\n",
    "plt.show()"
   ]
  },
  {
   "cell_type": "code",
   "execution_count": 171,
   "metadata": {},
   "outputs": [
    {
     "data": {
      "image/png": "[encoded data removed]",
      "text/plain": [
       "<Figure size 640x480 with 1 Axes>"
      ]
     },
     "metadata": {},
     "output_type": "display_data"
    }
   ],
   "source": [
    "# Chart of respondants with Family History\n",
    "series = df[\"family_history\"].value_counts()\n",
    "series.plot(kind='bar', width = 0.3)\n",
    "plt.title('Family History')\n",
    "plt.ylabel('# of Responses')\n",
    "plt.legend(loc='best')\n",
    "plt.show()"
   ]
  },
  {
   "cell_type": "markdown",
   "metadata": {},
   "source": [
    "**I want to expore the data and find some insights.** "
   ]
  },
  {
   "cell_type": "markdown",
   "metadata": {},
   "source": [
    "Therefore, I want to check - \n",
    "1) What is the prevlance of stress and gender?\n",
    "2) Which occupations have the highest stress rates?"
   ]
  },
  {
   "cell_type": "markdown",
   "metadata": {},
   "source": [
    "#### ***1) What is the prevalance of stress and gender?***"
   ]
  },
  {
   "cell_type": "markdown",
   "metadata": {},
   "source": [
    "The __[formula](https://www.ncbi.nlm.nih.gov/books/NBK430867/)__ I used here is *Prevalence = (Total number with condition) / (Population at risk for the condition)*"
   ]
  },
  {
   "cell_type": "code",
   "execution_count": null,
   "metadata": {},
   "outputs": [],
   "source": [
    "total_male = len(df[df['gender_encoded']==0])\n",
    "total_female = len(df[df['gender_encoded']==1])\n",
    "\n",
    "total_male_with_condition = len(df[(df['gender_encoded']==0) & (df['stress_encoded'].isin([0,2]))])\n",
    "total_female_with_condition = len(df[(df['gender_encoded']==0) & (df['stress_encoded'].isin([0,2]))])\n",
    "\n",
    "prevalence_male = total_male_with_condition/total_male\n",
    "prevalence_female = total_female_with_condition/total_female"
   ]
  },
  {
   "cell_type": "code",
   "execution_count": 172,
   "metadata": {},
   "outputs": [
    {
     "name": "stdout",
     "output_type": "stream",
     "text": [
      "Prevalence of stress among males: 69.84%\n",
      "Prevalence of stress among females: 15.05%\n"
     ]
    }
   ],
   "source": [
    "print(f\"Prevalence of stress among males: {prevalence_male:.2%}\")\n",
    "print(f\"Prevalence of stress among females: {prevalence_female:.2%}\")"
   ]
  },
  {
   "cell_type": "markdown",
   "metadata": {},
   "source": [
    "#### ***2) Which occupations have the highest stress rates?*** "
   ]
  },
  {
   "cell_type": "code",
   "execution_count": 173,
   "metadata": {},
   "outputs": [
    {
     "name": "stdout",
     "output_type": "stream",
     "text": [
      "['Corporate' 'Student' 'Business' 'Housewife' 'Others']\n"
     ]
    }
   ],
   "source": [
    "print(df['occupation'].unique())"
   ]
  },
  {
   "cell_type": "markdown",
   "metadata": {},
   "source": [
    "This was calculated by grouping the data by Occupation, \n",
    "<br> counting how many people in each role answered \"yes\" to growing_stress, \n",
    "<br> and dividing that by the total number of people in that occupation. \n",
    "<br>The result is a percentage that reflects how prevalent stress is within each job category."
   ]
  },
  {
   "cell_type": "code",
   "execution_count": null,
   "metadata": {},
   "outputs": [],
   "source": [
    "total_business_persons = len(df['occupation_encoded']==0)\n",
    "total_corporate_persons=len(df['occupation_encoded']==1) \n",
    "total_housewife_persons=len(df['occupation_encoded']==2)\n",
    "total_other_persons=len(df['occupation_encoded']==3) \n",
    "total_student_persons=len(df['occupation_encoded']==4) "
   ]
  },
  {
   "cell_type": "code",
   "execution_count": 174,
   "metadata": {},
   "outputs": [],
   "source": [
    "business_persons=len(df[(df['occupation_encoded']==0) & (df['stress_encoded'].isin([2]))])\n",
    "corporate_persons=len(df[(df['occupation_encoded']==1) & (df['stress_encoded'].isin([2]))])\n",
    "housewife_persons=len(df[(df['occupation_encoded']==2) & (df['stress_encoded'].isin([2]))])\n",
    "other_persons=len(df[(df['occupation_encoded']==3) & (df['stress_encoded'].isin([2]))])\n",
    "student_persons=len(df[(df['occupation_encoded']==4) & (df['stress_encoded'].isin([2]))])"
   ]
  },
  {
   "cell_type": "code",
   "execution_count": null,
   "metadata": {},
   "outputs": [],
   "source": [
    "business = business_persons/total_business_persons\n",
    "corporate = corporate_persons/total_corporate_persons\n",
    "housewife = housewife_persons/total_housewife_persons\n",
    "other = other_persons/total_other_persons\n",
    "student = student_persons/total_student_persons"
   ]
  },
  {
   "cell_type": "code",
   "execution_count": 175,
   "metadata": {},
   "outputs": [
    {
     "data": {
      "image/png": "[encoded data removed]",
      "text/plain": [
       "<Figure size 500x300 with 1 Axes>"
      ]
     },
     "metadata": {},
     "output_type": "display_data"
    }
   ],
   "source": [
    "# plot:\n",
    "x=[\"buiness\",\"corporate\",\"housewife\",\"other\",\"student\"]\n",
    "#values against each values of y\n",
    "y=[business,corporate,housewife,other,student]\n",
    "\n",
    "fig = plt.figure()\n",
    "fig.set_figwidth(5) \n",
    "fig.set_figheight(3) \n",
    "\n",
    "plt.barh(x, y, color='lightgreen')\n",
    "plt.xlabel(\"stress rate\")\n",
    "plt.ylabel(\"occupations\")\n",
    "plt.title(\"Occupation with highest stress rate\")\n",
    "plt.tight_layout()\n",
    "plt.savefig('occupations_stress', bbox_inches='tight')\n",
    "plt.show()"
   ]
  },
  {
   "cell_type": "code",
   "execution_count": null,
   "metadata": {},
   "outputs": [],
   "source": [
    "#print(df['country'].unique())"
   ]
  },
  {
   "cell_type": "code",
   "execution_count": null,
   "metadata": {},
   "outputs": [],
   "source": []
  }
 ],
 "metadata": {
  "kernelspec": {
   "display_name": "Python 3 (ipykernel)",
   "language": "python",
   "name": "python3"
  },
  "language_info": {
   "codemirror_mode": {
    "name": "ipython",
    "version": 3
   },
   "file_extension": ".py",
   "mimetype": "text/x-python",
   "name": "python",
   "nbconvert_exporter": "python",
   "pygments_lexer": "ipython3",
   "version": "3.11.9"
  }
 },
 "nbformat": 4,
 "nbformat_minor": 4
}
