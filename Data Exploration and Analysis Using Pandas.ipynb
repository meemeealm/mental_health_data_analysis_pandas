{
 "cells": [
  {
   "cell_type": "code",
   "execution_count": null,
   "metadata": {},
   "outputs": [],
   "source": [
    "%pip install matplotlib\n",
    "%pip install pandas\n",
    "%pip install numpy "
   ]
  },
  {
   "cell_type": "code",
   "execution_count": 2,
   "metadata": {},
   "outputs": [],
   "source": [
    "import pandas as pd\n",
    "import matplotlib.pyplot as plt\n",
    "import numpy as np\n"
   ]
  },
  {
   "cell_type": "code",
   "execution_count": 3,
   "metadata": {},
   "outputs": [],
   "source": [
    "#load data into DataFrame\n",
    "df=pd.read_csv(r\"C:\\Users\\Hp\\Downloads\\mentalhealth.csv\")\n",
    "\n",
    "# delete rows with zero \n",
    "df=df.dropna()\n"
   ]
  },
  {
   "cell_type": "code",
   "execution_count": 4,
   "metadata": {},
   "outputs": [
    {
     "data": {
      "text/plain": [
       "Timestamp                  object\n",
       "Gender                     object\n",
       "Country                    object\n",
       "Occupation                 object\n",
       "self_employed              object\n",
       "family_history             object\n",
       "treatment                  object\n",
       "Days_Indoors                int64\n",
       "Growing_Stress             object\n",
       "Changes_Habits             object\n",
       "Mental_Health_History      object\n",
       "Mood_Swings                object\n",
       "Coping_Struggles           object\n",
       "Work_Interest              object\n",
       "Social_Weakness            object\n",
       "mental_health_interview    object\n",
       "care_options               object\n",
       "dtype: object"
      ]
     },
     "execution_count": 4,
     "metadata": {},
     "output_type": "execute_result"
    }
   ],
   "source": [
    "#check data types\n",
    "df.dtypes"
   ]
  },
  {
   "cell_type": "code",
   "execution_count": 5,
   "metadata": {},
   "outputs": [
    {
     "name": "stdout",
     "output_type": "stream",
     "text": [
      "<class 'pandas.core.frame.DataFrame'>\n",
      "Index: 287162 entries, 3 to 292363\n",
      "Data columns (total 17 columns):\n",
      " #   Column                   Non-Null Count   Dtype \n",
      "---  ------                   --------------   ----- \n",
      " 0   Timestamp                287162 non-null  object\n",
      " 1   Gender                   287162 non-null  object\n",
      " 2   Country                  287162 non-null  object\n",
      " 3   Occupation               287162 non-null  object\n",
      " 4   self_employed            287162 non-null  object\n",
      " 5   family_history           287162 non-null  object\n",
      " 6   treatment                287162 non-null  object\n",
      " 7   Days_Indoors             287162 non-null  int64 \n",
      " 8   Growing_Stress           287162 non-null  object\n",
      " 9   Changes_Habits           287162 non-null  object\n",
      " 10  Mental_Health_History    287162 non-null  object\n",
      " 11  Mood_Swings              287162 non-null  object\n",
      " 12  Coping_Struggles         287162 non-null  object\n",
      " 13  Work_Interest            287162 non-null  object\n",
      " 14  Social_Weakness          287162 non-null  object\n",
      " 15  mental_health_interview  287162 non-null  object\n",
      " 16  care_options             287162 non-null  object\n",
      "dtypes: int64(1), object(16)\n",
      "memory usage: 39.4+ MB\n",
      "None\n",
      "            Timestamp  Gender        Country Occupation self_employed  \\\n",
      "3  8/27/2014 11:37:59  Female  United States  Corporate            No   \n",
      "4  8/27/2014 11:43:36  Female  United States  Corporate            No   \n",
      "5  8/27/2014 11:49:51  Female         Poland  Corporate            No   \n",
      "6  8/27/2014 11:51:34  Female      Australia  Corporate            No   \n",
      "7  8/27/2014 11:52:41  Female  United States  Corporate            No   \n",
      "\n",
      "  family_history treatment  Days_Indoors Growing_Stress Changes_Habits  \\\n",
      "3            Yes       Yes             1            Yes             No   \n",
      "4            Yes       Yes             1            Yes             No   \n",
      "5             No       Yes             1            Yes             No   \n",
      "6            Yes       Yes             1            Yes             No   \n",
      "7             No        No             1            Yes             No   \n",
      "\n",
      "  Mental_Health_History Mood_Swings Coping_Struggles Work_Interest  \\\n",
      "3                   Yes      Medium               No            No   \n",
      "4                   Yes      Medium               No            No   \n",
      "5                   Yes      Medium               No            No   \n",
      "6                   Yes      Medium               No            No   \n",
      "7                   Yes      Medium               No            No   \n",
      "\n",
      "  Social_Weakness mental_health_interview care_options  \n",
      "3             Yes                   Maybe          Yes  \n",
      "4             Yes                      No          Yes  \n",
      "5             Yes                   Maybe     Not sure  \n",
      "6             Yes                      No     Not sure  \n",
      "7             Yes                      No           No  \n"
     ]
    }
   ],
   "source": [
    "# check info\n",
    "print(df.info())\n",
    "\n",
    "# check the columns\n",
    "print(df.head(5))"
   ]
  },
  {
   "cell_type": "code",
   "execution_count": 6,
   "metadata": {},
   "outputs": [
    {
     "name": "stdout",
     "output_type": "stream",
     "text": [
      "        Days_Indoors\n",
      "count  287162.000000\n",
      "mean        2.963205\n",
      "std         1.420193\n",
      "min         1.000000\n",
      "25%         2.000000\n",
      "50%         3.000000\n",
      "75%         4.000000\n",
      "max         5.000000\n"
     ]
    }
   ],
   "source": [
    "# stats summary\n",
    "print(df.describe())"
   ]
  },
  {
   "cell_type": "code",
   "execution_count": 7,
   "metadata": {},
   "outputs": [
    {
     "name": "stdout",
     "output_type": "stream",
     "text": [
      "Timestamp                  0\n",
      "Gender                     0\n",
      "Country                    0\n",
      "Occupation                 0\n",
      "self_employed              0\n",
      "family_history             0\n",
      "treatment                  0\n",
      "Days_Indoors               0\n",
      "Growing_Stress             0\n",
      "Changes_Habits             0\n",
      "Mental_Health_History      0\n",
      "Mood_Swings                0\n",
      "Coping_Struggles           0\n",
      "Work_Interest              0\n",
      "Social_Weakness            0\n",
      "mental_health_interview    0\n",
      "care_options               0\n",
      "dtype: int64\n"
     ]
    }
   ],
   "source": [
    "# check missing data\n",
    "missing_values = df.isnull().sum()\n",
    "print(missing_values) "
   ]
  },
  {
   "cell_type": "code",
   "execution_count": 8,
   "metadata": {},
   "outputs": [
    {
     "name": "stdout",
     "output_type": "stream",
     "text": [
      "Duplicated ROWS:\n",
      "                Timestamp  Gender         Country Occupation self_employed  \\\n",
      "18274  8/27/2014 11:37:59  Female   United States  Corporate            No   \n",
      "18275  8/27/2014 11:43:36  Female   United States  Corporate            No   \n",
      "18276  8/27/2014 11:49:51  Female          Poland  Corporate            No   \n",
      "18277  8/27/2014 11:51:34  Female       Australia  Corporate            No   \n",
      "18278  8/27/2014 11:52:41  Female   United States  Corporate            No   \n",
      "...                   ...     ...             ...        ...           ...   \n",
      "51904   2/21/2015 5:11:37  Female   United States    Student            No   \n",
      "51905   2/21/2015 9:18:20  Female  United Kingdom    Student            No   \n",
      "51906  2/21/2015 18:54:12  Female         Ireland    Student            No   \n",
      "51907   2/24/2015 8:54:35  Female  United Kingdom    Student            No   \n",
      "51908  6/25/2015 12:24:31  Female   United States    Student            No   \n",
      "\n",
      "      family_history treatment  Days_Indoors Growing_Stress Changes_Habits  \\\n",
      "18274            Yes       Yes             3             No             No   \n",
      "18275            Yes       Yes             3             No             No   \n",
      "18276             No       Yes             3             No             No   \n",
      "18277            Yes       Yes             3             No             No   \n",
      "18278             No        No             3             No             No   \n",
      "...              ...       ...           ...            ...            ...   \n",
      "51904             No       Yes             5            Yes          Maybe   \n",
      "51905             No       Yes             5            Yes          Maybe   \n",
      "51906            Yes        No             5            Yes          Maybe   \n",
      "51907            Yes       Yes             5            Yes          Maybe   \n",
      "51908            Yes       Yes             5            Yes          Maybe   \n",
      "\n",
      "      Mental_Health_History Mood_Swings Coping_Struggles Work_Interest  \\\n",
      "18274                 Maybe        High               No            No   \n",
      "18275                 Maybe        High               No            No   \n",
      "18276                 Maybe        High               No            No   \n",
      "18277                 Maybe        High               No            No   \n",
      "18278                 Maybe        High               No            No   \n",
      "...                     ...         ...              ...           ...   \n",
      "51904                 Maybe        High               No         Maybe   \n",
      "51905                 Maybe        High               No         Maybe   \n",
      "51906                 Maybe        High               No         Maybe   \n",
      "51907                 Maybe        High               No         Maybe   \n",
      "51908                 Maybe        High               No         Maybe   \n",
      "\n",
      "      Social_Weakness mental_health_interview care_options  \n",
      "18274           Maybe                   Maybe          Yes  \n",
      "18275           Maybe                      No          Yes  \n",
      "18276           Maybe                   Maybe     Not sure  \n",
      "18277           Maybe                      No     Not sure  \n",
      "18278           Maybe                      No           No  \n",
      "...               ...                     ...          ...  \n",
      "51904              No                      No           No  \n",
      "51905              No                      No          Yes  \n",
      "51906              No                      No          Yes  \n",
      "51907              No                   Maybe          Yes  \n",
      "51908              No                      No           No  \n",
      "\n",
      "[354 rows x 17 columns]\n"
     ]
    }
   ],
   "source": [
    "# check duplicate data \n",
    "duplicate_rows = df[df.duplicated()]\n",
    "print(\"Duplicated ROWS:\")\n",
    "print(duplicate_rows)"
   ]
  },
  {
   "cell_type": "code",
   "execution_count": 11,
   "metadata": {},
   "outputs": [
    {
     "name": "stdout",
     "output_type": "stream",
     "text": [
      "['Female' 'Male']\n",
      "['United States' 'Poland' 'Australia' 'Canada' 'United Kingdom'\n",
      " 'South Africa' 'Sweden' 'New Zealand' 'Netherlands' 'India' 'Belgium'\n",
      " 'Ireland' 'France' 'Portugal' 'Brazil' 'Costa Rica' 'Russia' 'Germany'\n",
      " 'Switzerland' 'Finland' 'Israel' 'Italy' 'Bosnia and Herzegovina'\n",
      " 'Singapore' 'Nigeria' 'Croatia' 'Thailand' 'Denmark' 'Mexico' 'Greece'\n",
      " 'Moldova' 'Colombia' 'Georgia' 'Czech Republic' 'Philippines']\n",
      "['Corporate' 'Student' 'Business' 'Housewife' 'Others']\n",
      "['No' 'Yes']\n",
      "['Yes' 'No']\n",
      "['Yes' 'No']\n",
      "[1 4 5 2 3]\n",
      "['Yes' 'No' 'Maybe']\n",
      "['No' 'Yes' 'Maybe']\n",
      "['Yes' 'No' 'Maybe']\n",
      "['Medium' 'Low' 'High']\n",
      "['No' 'Yes']\n",
      "['No' 'Maybe' 'Yes']\n",
      "['Yes' 'No' 'Maybe']\n",
      "['Maybe' 'No' 'Yes']\n",
      "['Yes' 'Not sure' 'No']\n"
     ]
    }
   ],
   "source": [
    "# find the unique data in dataframe\n",
    "# exclude the timestamp\n",
    "excluded_df = df.loc[:, df.columns !='Timestamp']\n",
    "\n",
    "for col in excluded_df:\n",
    "    uniq = excluded_df[col].unique()\n",
    "    print(uniq)"
   ]
  },
  {
   "cell_type": "code",
   "execution_count": null,
   "metadata": {},
   "outputs": [],
   "source": [
    "#change strings to numeric\n",
    "df['treatment']=df['treatment'].replace({'Yes':1, 'No':0}).astype(int)\n",
    "df['Changes_Habits']=df['Changes_Habits'].replace({'Maybe':2, 'Yes':1, 'No':0}).astype(int)\n",
    "df['Mental_Health_History']=df['Mental_Health_History'].replace({'Maybe':2, 'Yes':1, 'No':0}).astype(int)\n",
    "df['Mood_Swings']=df['Mood_Swings'].replace({'High':2, 'Medium':1, 'Low':0}).astype(int)\n",
    "df['Work_Interest']=df['Work_Interest'].replace({'Maybe':2,'Yes':1, 'No':0}).astype(int)"
   ]
  },
  {
   "cell_type": "code",
   "execution_count": null,
   "metadata": {},
   "outputs": [
    {
     "data": {
      "image/png": "[encoded data removed]",
      "text/plain": [
       "<Figure size 640x480 with 1 Axes>"
      ]
     },
     "metadata": {},
     "output_type": "display_data"
    }
   ],
   "source": [
    "# pie chart for Gender Distribution\n",
    "explode = (0.03, 0.03, 0.03)\n",
    "series = df[\"Gender\"].value_counts()\n",
    "series.plot(kind='pie', autopct = '%1.00f%%')\n",
    "plt.title('Gender Distribution')\n",
    "plt.legend(loc='best')\n",
    "plt.show()"
   ]
  },
  {
   "cell_type": "code",
   "execution_count": null,
   "metadata": {},
   "outputs": [
    {
     "data": {
      "image/png": "[encoded data removed]",
      "text/plain": [
       "<Figure size 640x480 with 1 Axes>"
      ]
     },
     "metadata": {},
     "output_type": "display_data"
    }
   ],
   "source": [
    "# Chart of respondants with Family History\n",
    "series = df[\"family_history\"].value_counts()\n",
    "series.plot(kind='bar', width = 0.3)\n",
    "plt.title('Family History')\n",
    "plt.ylabel('# of Responses')\n",
    "plt.legend(loc='best')\n",
    "plt.show()"
   ]
  }
 ],
 "metadata": {
  "kernelspec": {
   "display_name": "Python 3",
   "language": "python",
   "name": "python3"
  },
  "language_info": {
   "codemirror_mode": {
    "name": "ipython",
    "version": 3
   },
   "file_extension": ".py",
   "mimetype": "text/x-python",
   "name": "python",
   "nbconvert_exporter": "python",
   "pygments_lexer": "ipython3",
   "version": "3.11.9"
  }
 },
 "nbformat": 4,
 "nbformat_minor": 2
}
